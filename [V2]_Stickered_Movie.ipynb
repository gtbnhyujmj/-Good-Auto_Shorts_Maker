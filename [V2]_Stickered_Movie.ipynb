{
  "cells": [
    {
      "cell_type": "markdown",
      "metadata": {
        "id": "view-in-github",
        "colab_type": "text"
      },
      "source": [
        "<a href=\"https://colab.research.google.com/github/gtbnhyujmj/-Good-Auto_Shorts_Maker/blob/main/%5BV2%5D_Stickered_Movie.ipynb\" target=\"_parent\"><img src=\"https://colab.research.google.com/assets/colab-badge.svg\" alt=\"Open In Colab\"/></a>"
      ]
    },
    {
      "cell_type": "code",
      "source": [
        "from google.colab import drive\n",
        "drive.mount('/content/drive')"
      ],
      "metadata": {
        "colab": {
          "base_uri": "https://localhost:8080/"
        },
        "id": "a5uXc0CuBfnD",
        "outputId": "7827c5d1-425f-4d88-b111-3dca81510416"
      },
      "execution_count": 2,
      "outputs": [
        {
          "output_type": "stream",
          "name": "stdout",
          "text": [
            "Drive already mounted at /content/drive; to attempt to forcibly remount, call drive.mount(\"/content/drive\", force_remount=True).\n"
          ]
        }
      ]
    },
    {
      "cell_type": "code",
      "execution_count": 3,
      "metadata": {
        "id": "HqAzwBg99OGD"
      },
      "outputs": [],
      "source": [
        "import os  # 匯入標準/外部函式庫\n",
        "import cv2  # 匯入標準/外部函式庫\n",
        "import numpy as np  # 匯入標準/外部函式庫\n",
        "from PIL import Image  # 從套件匯入模組或類別\n",
        "import random  # 匯入標準/外部函式庫"
      ]
    },
    {
      "cell_type": "markdown",
      "metadata": {
        "id": "gBk55PJi_9kS"
      },
      "source": [
        "# def Area"
      ]
    },
    {
      "cell_type": "code",
      "execution_count": 4,
      "metadata": {
        "id": "HfkrlUXZ9ULz"
      },
      "outputs": [],
      "source": [
        "# ===== 函數：合成透明圖層（快速 numpy） =====\n",
        "def blend_with_alpha_fast(base_img, overlay_imgs):  # 定義函數：blend_with_alpha_fast\n",
        "    base_rgba = cv2.cvtColor(base_img, cv2.COLOR_BGR2RGBA)  # OpenCV 影像處理函式\n",
        "    for overlay in overlay_imgs:  # for 迴圈\n",
        "        overlay_rgba = np.array(overlay.convert('RGBA').resize((base_rgba.shape[1], base_rgba.shape[0]), Image.LANCZOS))  # numpy 相關函式\n",
        "        alpha_overlay = overlay_rgba[..., 3:] / 255.0  # 變數指派\n",
        "        alpha_base = base_rgba[..., 3:] / 255.0  # 變數指派\n",
        "        out_alpha = alpha_overlay + alpha_base * (1 - alpha_overlay)  # 變數指派\n",
        "        base_rgba[..., :3] = (overlay_rgba[..., :3] * alpha_overlay + base_rgba[..., :3] * alpha_base * (1 - alpha_overlay)) / (out_alpha + 1e-6)  # 變數指派\n",
        "        base_rgba[..., 3:] = out_alpha * 255  # 變數指派\n",
        "    result_bgr = cv2.cvtColor(base_rgba, cv2.COLOR_RGBA2BGR)  # OpenCV 影像處理函式\n",
        "    return result_bgr  # 回傳結果"
      ]
    },
    {
      "cell_type": "code",
      "execution_count": 5,
      "metadata": {
        "id": "3SjWgZVq9cHT"
      },
      "outputs": [],
      "source": [
        "# ===== 函數：處理影片，每幀合成 PNG 疊圖 =====\n",
        "def overlay_multiple_pngs_on_video_fast(video_path, overlay_paths, output_path):  # 定義函數：overlay_multiple_pngs_on_video_fast\n",
        "    cap = cv2.VideoCapture(video_path)  # OpenCV 影像處理函式\n",
        "    fps = int(cap.get(cv2.CAP_PROP_FPS))  # OpenCV 影像處理函式\n",
        "    width = int(cap.get(cv2.CAP_PROP_FRAME_WIDTH))  # OpenCV 影像處理函式\n",
        "    height = int(cap.get(cv2.CAP_PROP_FRAME_HEIGHT))  # OpenCV 影像處理函式\n",
        "    fourcc = cv2.VideoWriter_fourcc(*'mp4v')  # OpenCV 影像處理函式\n",
        "    out = cv2.VideoWriter(output_path, fourcc, fps, (width, height))  # OpenCV 影像處理函式\n",
        "    overlay_images = [Image.open(path).resize((width, height), Image.LANCZOS) for path in overlay_paths]  # PIL 影像處理\n",
        "    while True:\n",
        "        ret, frame = cap.read()  # 變數指派\n",
        "        if not ret:  # if 判斷式\n",
        "            break\n",
        "        result_frame = blend_with_alpha_fast(frame, overlay_images)  # 變數指派\n",
        "        out.write(result_frame)\n",
        "    cap.release()\n",
        "    out.release()\n",
        "    print(f\"✅ 影片已產出：{output_path}\")"
      ]
    },
    {
      "cell_type": "markdown",
      "metadata": {
        "id": "bfOW0xiL9wPr"
      },
      "source": [
        "# Main Precessing"
      ]
    },
    {
      "cell_type": "code",
      "execution_count": 6,
      "metadata": {
        "id": "ZlrvmmgO9Q2E"
      },
      "outputs": [],
      "source": [
        "# ===== 資料夾設定 =====\n",
        "BACKGROUND_DIR = \"/content/drive/MyDrive/shorts/backgrounds_MP4\"  # 可包含 MP4 或 PNG  # 變數指派\n",
        "CHARACTER_DIR = \"/content/drive/MyDrive/shorts/characters\"  # 變數指派\n",
        "OVERLAY_DIR = \"/content/drive/MyDrive/shorts/PNG_Overlayers\"  # 變數指派\n",
        "TEXT_STICKER_DIR = \"/content/drive/MyDrive/shorts/Text_Overlayers\"  # 變數指派\n",
        "OUTPUT_DIR = \"/content/drive/MyDrive/shorts/movie01\"  # 變數指派\n",
        "os.makedirs(OUTPUT_DIR, exist_ok=True)  # 操作路徑或檔案系統"
      ]
    },
    {
      "cell_type": "code",
      "execution_count": 7,
      "metadata": {
        "colab": {
          "base_uri": "https://localhost:8080/"
        },
        "id": "lhT8xtAF9iRb",
        "outputId": "ea07eb80-0a48-4488-af52-92b132ae72fd"
      },
      "outputs": [
        {
          "output_type": "stream",
          "name": "stdout",
          "text": [
            "✅ 影片已產出：/content/drive/MyDrive/shorts/movie01/text_0.mp4\n",
            "✅ 影片已產出：/content/drive/MyDrive/shorts/movie01/text_1.mp4\n",
            "✅ 影片已產出：/content/drive/MyDrive/shorts/movie01/text_2.mp4\n",
            "🎬 所有影片產出完成！\n"
          ]
        }
      ],
      "source": [
        "# ===== 主程式流程：對每張貼紙產出影片 =====\n",
        "text_files = [f for f in os.listdir(TEXT_STICKER_DIR) if f.endswith('.png')]  # 操作路徑或檔案系統\n",
        "if not text_files:  # if 判斷式\n",
        "    print(\"⚠️ 找不到任何貼紙，請確認 TEXT_STICKER_DIR 資料夾內是否有 PNG。\")\n",
        "\n",
        "for text_file in text_files:  # for 迴圈\n",
        "    # 讀入文字貼紙\n",
        "    text_path = os.path.join(TEXT_STICKER_DIR, text_file)  # 操作路徑或檔案系統\n",
        "\n",
        "    # 隨機抽背景\n",
        "    bg_list = [os.path.join(BACKGROUND_DIR, f) for f in os.listdir(BACKGROUND_DIR) if f.endswith(('.mp4', '.png'))]  # 操作路徑或檔案系統\n",
        "    if not bg_list:  # if 判斷式\n",
        "        print(\"❌ 沒有背景素材，請確認背景資料夾。\")\n",
        "        continue\n",
        "    bg_path = random.choice(bg_list)  # 隨機數/物件\n",
        "\n",
        "    # 隨機抽角色與特效\n",
        "    def rand_img(folder):  # 定義函數：rand_img\n",
        "        items = [os.path.join(folder, f) for f in os.listdir(folder) if f.endswith('.png')]  # 操作路徑或檔案系統\n",
        "        return random.choice(items) if items else None  # 回傳結果\n",
        "    layers = [text_path]  # 最底層為文字貼紙  # 變數指派\n",
        "    for folder in [CHARACTER_DIR, OVERLAY_DIR]:  # for 迴圈\n",
        "        picked = rand_img(folder)  # 變數指派\n",
        "        if picked:  # if 判斷式\n",
        "            layers.append(picked)\n",
        "\n",
        "    # 合成影片\n",
        "    output_path = os.path.join(OUTPUT_DIR, text_file.replace(\".png\", \".mp4\"))  # 操作路徑或檔案系統\n",
        "    if bg_path.endswith('.mp4'):  # if 判斷式\n",
        "        overlay_multiple_pngs_on_video_fast(bg_path, layers, output_path)\n",
        "    else:  # else 其他情況\n",
        "        # 處理靜態背景圖\n",
        "        bg_img = cv2.imread(bg_path)  # OpenCV 影像處理函式\n",
        "        bg_img = cv2.resize(bg_img, (1080, 1920))  # OpenCV 影像處理函式\n",
        "        overlay_imgs = [Image.open(p).resize((1080, 1920), Image.LANCZOS) for p in layers]  # PIL 影像處理\n",
        "        result = blend_with_alpha_fast(bg_img, overlay_imgs)  # 變數指派\n",
        "        out = cv2.VideoWriter(output_path, cv2.VideoWriter_fourcc(*'mp4v'), 15, (1080, 1920))  # OpenCV 影像處理函式\n",
        "        for _ in range(75): out.write(result)  # for 迴圈\n",
        "        out.release()\n",
        "        print(f\"✅ 靜態背景影片產出：{output_path}\")\n",
        "\n",
        "print(\"🎬 所有影片產出完成！\")"
      ]
    }
  ],
  "metadata": {
    "colab": {
      "provenance": [],
      "include_colab_link": true
    },
    "kernelspec": {
      "display_name": "Python 3",
      "name": "python3"
    },
    "language_info": {
      "name": "python"
    }
  },
  "nbformat": 4,
  "nbformat_minor": 0
}