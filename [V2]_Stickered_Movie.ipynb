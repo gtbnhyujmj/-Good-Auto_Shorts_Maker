{
  "nbformat": 4,
  "nbformat_minor": 0,
  "metadata": {
    "colab": {
      "provenance": [],
      "mount_file_id": "1NGrHrgwuZK9boLZej_CjNEfpoFezMS5K",
      "authorship_tag": "ABX9TyMKe/vGsY2GwkkHUZuRrUVV",
      "include_colab_link": true
    },
    "kernelspec": {
      "name": "python3",
      "display_name": "Python 3"
    },
    "language_info": {
      "name": "python"
    }
  },
  "cells": [
    {
      "cell_type": "markdown",
      "metadata": {
        "id": "view-in-github",
        "colab_type": "text"
      },
      "source": [
        "<a href=\"https://colab.research.google.com/github/gtbnhyujmj/-Good-Auto_Shorts_Maker/blob/main/%5BV2%5D_Stickered_Movie.ipynb\" target=\"_parent\"><img src=\"https://colab.research.google.com/assets/colab-badge.svg\" alt=\"Open In Colab\"/></a>"
      ]
    },
    {
      "cell_type": "code",
      "execution_count": 1,
      "metadata": {
        "id": "HqAzwBg99OGD"
      },
      "outputs": [],
      "source": [
        "import os\n",
        "import cv2\n",
        "import numpy as np\n",
        "from PIL import Image\n",
        "import random"
      ]
    },
    {
      "cell_type": "markdown",
      "source": [
        "# def Area"
      ],
      "metadata": {
        "id": "gBk55PJi_9kS"
      }
    },
    {
      "cell_type": "code",
      "source": [
        "# ===== 函數：合成透明圖層（快速 numpy） =====\n",
        "def blend_with_alpha_fast(base_img, overlay_imgs):\n",
        "    base_rgba = cv2.cvtColor(base_img, cv2.COLOR_BGR2RGBA)\n",
        "    for overlay in overlay_imgs:\n",
        "        overlay_rgba = np.array(overlay.convert('RGBA').resize((base_rgba.shape[1], base_rgba.shape[0]), Image.LANCZOS))\n",
        "        alpha_overlay = overlay_rgba[..., 3:] / 255.0\n",
        "        alpha_base = base_rgba[..., 3:] / 255.0\n",
        "        out_alpha = alpha_overlay + alpha_base * (1 - alpha_overlay)\n",
        "        base_rgba[..., :3] = (overlay_rgba[..., :3] * alpha_overlay + base_rgba[..., :3] * alpha_base * (1 - alpha_overlay)) / (out_alpha + 1e-6)\n",
        "        base_rgba[..., 3:] = out_alpha * 255\n",
        "    result_bgr = cv2.cvtColor(base_rgba, cv2.COLOR_RGBA2BGR)\n",
        "    return result_bgr"
      ],
      "metadata": {
        "id": "HfkrlUXZ9ULz"
      },
      "execution_count": 6,
      "outputs": []
    },
    {
      "cell_type": "code",
      "source": [
        "# ===== 函數：處理影片，每幀合成 PNG 疊圖 =====\n",
        "def overlay_multiple_pngs_on_video_fast(video_path, overlay_paths, output_path):\n",
        "    cap = cv2.VideoCapture(video_path)\n",
        "    fps = int(cap.get(cv2.CAP_PROP_FPS))\n",
        "    width = int(cap.get(cv2.CAP_PROP_FRAME_WIDTH))\n",
        "    height = int(cap.get(cv2.CAP_PROP_FRAME_HEIGHT))\n",
        "    fourcc = cv2.VideoWriter_fourcc(*'mp4v')\n",
        "    out = cv2.VideoWriter(output_path, fourcc, fps, (width, height))\n",
        "    overlay_images = [Image.open(path).resize((width, height), Image.LANCZOS) for path in overlay_paths]\n",
        "    while True:\n",
        "        ret, frame = cap.read()\n",
        "        if not ret:\n",
        "            break\n",
        "        result_frame = blend_with_alpha_fast(frame, overlay_images)\n",
        "        out.write(result_frame)\n",
        "    cap.release()\n",
        "    out.release()\n",
        "    print(f\"✅ 影片已產出：{output_path}\")"
      ],
      "metadata": {
        "id": "3SjWgZVq9cHT"
      },
      "execution_count": 3,
      "outputs": []
    },
    {
      "cell_type": "markdown",
      "source": [
        "# Main Precessing"
      ],
      "metadata": {
        "id": "bfOW0xiL9wPr"
      }
    },
    {
      "cell_type": "code",
      "source": [
        "# ===== 資料夾設定 =====\n",
        "BACKGROUND_DIR = \"/content/drive/MyDrive/shorts/backgrounds_MP4\"  # 可包含 MP4 或 PNG\n",
        "CHARACTER_DIR = \"/content/drive/MyDrive/shorts/characters\"\n",
        "OVERLAY_DIR = \"/content/drive/MyDrive/shorts/PNG_Overlayers\"\n",
        "TEXT_STICKER_DIR = \"/content/drive/MyDrive/shorts/Text_Overlayers\"\n",
        "OUTPUT_DIR = \"/content/drive/MyDrive/shorts/movie01\"\n",
        "os.makedirs(OUTPUT_DIR, exist_ok=True)"
      ],
      "metadata": {
        "id": "ZlrvmmgO9Q2E"
      },
      "execution_count": 4,
      "outputs": []
    },
    {
      "cell_type": "code",
      "source": [
        "# ===== 主程式流程：對每張貼紙產出影片 =====\n",
        "text_files = [f for f in os.listdir(TEXT_STICKER_DIR) if f.endswith('.png')]\n",
        "if not text_files:\n",
        "    print(\"⚠️ 找不到任何貼紙，請確認 TEXT_STICKER_DIR 資料夾內是否有 PNG。\")\n",
        "\n",
        "for text_file in text_files:\n",
        "    # 讀入文字貼紙\n",
        "    text_path = os.path.join(TEXT_STICKER_DIR, text_file)\n",
        "\n",
        "    # 隨機抽背景\n",
        "    bg_list = [os.path.join(BACKGROUND_DIR, f) for f in os.listdir(BACKGROUND_DIR) if f.endswith(('.mp4', '.png'))]\n",
        "    if not bg_list:\n",
        "        print(\"❌ 沒有背景素材，請確認背景資料夾。\")\n",
        "        continue\n",
        "    bg_path = random.choice(bg_list)\n",
        "\n",
        "    # 隨機抽角色與特效\n",
        "    def rand_img(folder):\n",
        "        items = [os.path.join(folder, f) for f in os.listdir(folder) if f.endswith('.png')]\n",
        "        return random.choice(items) if items else None\n",
        "    layers = [text_path]  # 最底層為文字貼紙\n",
        "    for folder in [CHARACTER_DIR, OVERLAY_DIR]:\n",
        "        picked = rand_img(folder)\n",
        "        if picked:\n",
        "            layers.append(picked)\n",
        "\n",
        "    # 合成影片\n",
        "    output_path = os.path.join(OUTPUT_DIR, text_file.replace(\".png\", \".mp4\"))\n",
        "    if bg_path.endswith('.mp4'):\n",
        "        overlay_multiple_pngs_on_video_fast(bg_path, layers, output_path)\n",
        "    else:\n",
        "        # 處理靜態背景圖\n",
        "        bg_img = cv2.imread(bg_path)\n",
        "        bg_img = cv2.resize(bg_img, (1080, 1920))\n",
        "        overlay_imgs = [Image.open(p).resize((1080, 1920), Image.LANCZOS) for p in layers]\n",
        "        result = blend_with_alpha_fast(bg_img, overlay_imgs)\n",
        "        out = cv2.VideoWriter(output_path, cv2.VideoWriter_fourcc(*'mp4v'), 15, (1080, 1920))\n",
        "        for _ in range(75): out.write(result)\n",
        "        out.release()\n",
        "        print(f\"✅ 靜態背景影片產出：{output_path}\")\n",
        "\n",
        "print(\"🎬 所有影片產出完成！\")"
      ],
      "metadata": {
        "colab": {
          "base_uri": "https://localhost:8080/"
        },
        "id": "lhT8xtAF9iRb",
        "outputId": "b470eb83-a562-410a-b9f0-ce2963ab498f"
      },
      "execution_count": 7,
      "outputs": [
        {
          "output_type": "stream",
          "name": "stdout",
          "text": [
            "✅ 影片已產出：/content/drive/MyDrive/shorts/movie01/text_0.mp4\n",
            "✅ 影片已產出：/content/drive/MyDrive/shorts/movie01/text_1.mp4\n",
            "✅ 影片已產出：/content/drive/MyDrive/shorts/movie01/text_2.mp4\n",
            "🎬 所有影片產出完成！\n"
          ]
        }
      ]
    }
  ]
}