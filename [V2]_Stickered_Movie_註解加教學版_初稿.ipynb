{
  "cells": [
    {
      "cell_type": "markdown",
      "metadata": {
        "id": "view-in-github",
        "colab_type": "text"
      },
      "source": [
        "<a href=\"https://colab.research.google.com/github/gtbnhyujmj/-Good-Auto_Shorts_Maker/blob/main/%5BV2%5D_Stickered_Movie_%E8%A8%BB%E8%A7%A3%E5%8A%A0%E6%95%99%E5%AD%B8%E7%89%88_%E5%88%9D%E7%A8%BF.ipynb\" target=\"_parent\"><img src=\"https://colab.research.google.com/assets/colab-badge.svg\" alt=\"Open In Colab\"/></a>"
      ]
    },
    {
      "cell_type": "markdown",
      "id": "d4900b4c",
      "metadata": {
        "id": "d4900b4c"
      },
      "source": [
        "# 影像疊貼自動產生短影音（新手逐行解釋版）\n",
        "本 Notebook 會教你怎麼自動把 PNG 貼紙貼到背景影片上，產生直式短影音。每一格都會有很詳細的新手註解！"
      ]
    },
    {
      "cell_type": "markdown",
      "id": "d67af043",
      "metadata": {
        "id": "d67af043"
      },
      "source": [
        "\n",
        "## 1. 掛載 Google Drive\n",
        "\n",
        "**這一段是做什麼？**\n",
        "- 在 Google Colab 上，預設只能存取 `/content` 目錄，這個目錄用完就會消失。\n",
        "- 如果你要讀寫你自己的檔案（例如背景圖、素材、輸出影片），建議全部都放在 Google 雲端硬碟，這樣 Colab 才能存/讀/寫。\n",
        "\n",
        "**怎麼用？**\n",
        "- 執行這一格，Colab 會請你授權存取你的 Google Drive。授權一次後，`/content/drive/MyDrive` 就會是你雲端硬碟的主目錄。\n",
        "\n",
        "**新手常見錯誤**\n",
        "- 每次重開 Colab 都要重新掛載。\n",
        "- 如果沒有掛載就直接用硬碟路徑，程式會找不到資料夾（會 error）。\n"
      ]
    },
    {
      "cell_type": "code",
      "execution_count": null,
      "id": "cd3e7282",
      "metadata": {
        "id": "cd3e7282"
      },
      "outputs": [],
      "source": [
        "from google.colab import drive  # 匯入 Colab 的 Google Drive 模組\n",
        "drive.mount('/content/drive')  # 掛載 Google 雲端硬碟到 /content/drive，這樣才能讀寫雲端檔案\n"
      ]
    },
    {
      "cell_type": "markdown",
      "id": "e406af33",
      "metadata": {
        "id": "e406af33"
      },
      "source": [
        "\n",
        "## 2. 匯入必要的 Python 套件\n",
        "\n",
        "**這一段是做什麼？**\n",
        "- 本專案會處理影片（背景）、圖片（人物/貼紙），還有資料夾與檔案操作。\n",
        "- 各套件用途如下：\n",
        "\n",
        "| 套件         | 用途說明                                  | 常見錯誤              |\n",
        "|--------------|----------------------------------------|--------------------|\n",
        "| `os`         | 跟作業系統相關，找路徑/檔名/資料夾管理           | 寫路徑打錯、路徑斜線方向 |\n",
        "| `cv2`        | OpenCV，專門做圖片和影片處理                   | Colab 初次用要 pip 安裝，版本問題 |\n",
        "| `numpy`      | 做矩陣、影像陣列運算（很多影像套件都吃 numpy 格式） | 陣列資料型態錯誤        |\n",
        "| `PIL.Image`  | Python 內建的圖片處理（Pillow）                | 讀入路徑打錯、格式不合   |\n",
        "| `random`     | 隨機抽檔案、打亂順序等用途                      | -                  |\n",
        "\n",
        "**注意：在 Colab 若出現「ModuleNotFoundError」就 pip install 一下，例如：`!pip install opencv-python`**\n"
      ]
    },
    {
      "cell_type": "code",
      "execution_count": null,
      "id": "89bd816d",
      "metadata": {
        "id": "89bd816d"
      },
      "outputs": [],
      "source": [
        "import os  # Python 內建作業系統功能：處理檔案、資料夾、路徑\n",
        "import cv2  # OpenCV：強大的圖片/影片讀寫、轉檔、處理（初學者常見於影像辨識）\n",
        "import numpy as np  # Numpy：處理大量數據、圖片像素運算都會用到\n",
        "from PIL import Image  # Pillow：進階圖片處理、支援 PNG 透明度\n",
        "import random  # 亂數模組：抽背景、角色、貼紙等素材時會用"
      ]
    },
    {
      "cell_type": "code",
      "execution_count": null,
      "id": "65b04cdb",
      "metadata": {
        "colab": {
          "base_uri": "https://localhost:8080/"
        },
        "id": "65b04cdb",
        "outputId": "7827c5d1-425f-4d88-b111-3dca81510416"
      },
      "outputs": [
        {
          "name": "stdout",
          "output_type": "stream",
          "text": [
            "Drive already mounted at /content/drive; to attempt to forcibly remount, call drive.mount(\"/content/drive\", force_remount=True).\n"
          ]
        }
      ],
      "source": [
        "from google.colab import drive\n",
        "drive.mount('/content/drive')"
      ]
    },
    {
      "cell_type": "code",
      "execution_count": null,
      "id": "c6bf0700",
      "metadata": {
        "id": "c6bf0700"
      },
      "outputs": [],
      "source": [
        "import os  # 匯入標準/外部函式庫\n",
        "import cv2  # 匯入標準/外部函式庫\n",
        "import numpy as np  # 匯入標準/外部函式庫\n",
        "from PIL import Image  # 從套件匯入模組或類別\n",
        "import random  # 匯入標準/外部函式庫"
      ]
    },
    {
      "cell_type": "code",
      "execution_count": null,
      "id": "d3665c7f",
      "metadata": {
        "id": "d3665c7f"
      },
      "outputs": [],
      "source": [
        "# ===== 函數：合成透明圖層（快速 numpy） =====\n",
        "def blend_with_alpha_fast(base_img, overlay_imgs):  # 定義函數：blend_with_alpha_fast\n",
        "    base_rgba = cv2.cvtColor(base_img, cv2.COLOR_BGR2RGBA)  # OpenCV 影像處理函式\n",
        "    for overlay in overlay_imgs:  # for 迴圈\n",
        "        overlay_rgba = np.array(overlay.convert('RGBA').resize((base_rgba.shape[1], base_rgba.shape[0]), Image.LANCZOS))  # numpy 相關函式\n",
        "        alpha_overlay = overlay_rgba[..., 3:] / 255.0  # 變數指派\n",
        "        alpha_base = base_rgba[..., 3:] / 255.0  # 變數指派\n",
        "        out_alpha = alpha_overlay + alpha_base * (1 - alpha_overlay)  # 變數指派\n",
        "        base_rgba[..., :3] = (overlay_rgba[..., :3] * alpha_overlay + base_rgba[..., :3] * alpha_base * (1 - alpha_overlay)) / (out_alpha + 1e-6)  # 變數指派\n",
        "        base_rgba[..., 3:] = out_alpha * 255  # 變數指派\n",
        "    result_bgr = cv2.cvtColor(base_rgba, cv2.COLOR_RGBA2BGR)  # OpenCV 影像處理函式\n",
        "    return result_bgr  # 回傳結果"
      ]
    },
    {
      "cell_type": "code",
      "execution_count": null,
      "id": "c4d1ba09",
      "metadata": {
        "id": "c4d1ba09"
      },
      "outputs": [],
      "source": [
        "# ===== 函數：處理影片，每幀合成 PNG 疊圖 =====\n",
        "def overlay_multiple_pngs_on_video_fast(video_path, overlay_paths, output_path):  # 定義函數：overlay_multiple_pngs_on_video_fast\n",
        "    cap = cv2.VideoCapture(video_path)  # OpenCV 影像處理函式\n",
        "    fps = int(cap.get(cv2.CAP_PROP_FPS))  # OpenCV 影像處理函式\n",
        "    width = int(cap.get(cv2.CAP_PROP_FRAME_WIDTH))  # OpenCV 影像處理函式\n",
        "    height = int(cap.get(cv2.CAP_PROP_FRAME_HEIGHT))  # OpenCV 影像處理函式\n",
        "    fourcc = cv2.VideoWriter_fourcc(*'mp4v')  # OpenCV 影像處理函式\n",
        "    out = cv2.VideoWriter(output_path, fourcc, fps, (width, height))  # OpenCV 影像處理函式\n",
        "    overlay_images = [Image.open(path).resize((width, height), Image.LANCZOS) for path in overlay_paths]  # PIL 影像處理\n",
        "    while True:\n",
        "        ret, frame = cap.read()  # 變數指派\n",
        "        if not ret:  # if 判斷式\n",
        "            break\n",
        "        result_frame = blend_with_alpha_fast(frame, overlay_images)  # 變數指派\n",
        "        out.write(result_frame)\n",
        "    cap.release()\n",
        "    out.release()\n",
        "    print(f\"✅ 影片已產出：{output_path}\")"
      ]
    },
    {
      "cell_type": "markdown",
      "id": "fc16949a",
      "metadata": {
        "id": "fc16949a"
      },
      "source": [
        "\n",
        "## 3. 定義圖層合成函數：`blend_with_alpha_fast`\n",
        "\n",
        "**這一段是做什麼？**\n",
        "- 負責把底圖跟多張 PNG 疊起來，而且會考慮透明度（alpha channel），所以效果像貼紙。\n",
        "- 用 numpy 讓速度更快，適合一次合成很多圖層。\n",
        "\n",
        "**新手要注意什麼？**\n",
        "- `base_img` 要是 OpenCV 的格式（BGR），不是 PIL 格式。\n",
        "- `overlay_imgs` 要是 PIL 圖片，而且本來就要有透明度（RGBA）。\n",
        "- PIL 跟 OpenCV 兩套影像格式常常轉來轉去，一定要清楚目前是哪一種（錯就會出現 shape/型態錯誤）。\n"
      ]
    },
    {
      "cell_type": "code",
      "execution_count": null,
      "id": "84631345",
      "metadata": {
        "id": "84631345"
      },
      "outputs": [],
      "source": [
        "# ===== 資料夾設定 =====\n",
        "BACKGROUND_DIR = \"/content/drive/MyDrive/shorts/backgrounds_MP4\"  # 可包含 MP4 或 PNG  # 變數指派\n",
        "CHARACTER_DIR = \"/content/drive/MyDrive/shorts/characters\"  # 變數指派\n",
        "OVERLAY_DIR = \"/content/drive/MyDrive/shorts/PNG_Overlayers\"  # 變數指派\n",
        "TEXT_STICKER_DIR = \"/content/drive/MyDrive/shorts/Text_Overlayers\"  # 變數指派\n",
        "OUTPUT_DIR = \"/content/drive/MyDrive/shorts/movie01\"  # 變數指派\n",
        "os.makedirs(OUTPUT_DIR, exist_ok=True)  # 操作路徑或檔案系統"
      ]
    },
    {
      "cell_type": "markdown",
      "id": "8b4d7cb5",
      "metadata": {
        "id": "8b4d7cb5"
      },
      "source": [
        "\n",
        "## 4. 定義「疊 PNG 到影片」主函數：`overlay_multiple_pngs_on_video_fast`\n",
        "\n",
        "**這一段是做什麼？**\n",
        "- 讀進一段 MP4 影片，針對影片的每一幀（frame），把多個 PNG 疊貼上去（就像字幕、貼紙）。\n",
        "- 疊完後，把所有新 frame 再輸出成新影片。\n",
        "\n",
        "**新手注意**：\n",
        "- 這段是「每一幀」處理，影片長越久，越慢。\n",
        "- 注意記憶體（幀數大會吃很大）。\n",
        "- 輸入/輸出路徑要小心，否則找不到/覆蓋舊檔。\n"
      ]
    },
    {
      "cell_type": "code",
      "execution_count": null,
      "id": "a0b02e4e",
      "metadata": {
        "colab": {
          "base_uri": "https://localhost:8080/"
        },
        "id": "a0b02e4e",
        "outputId": "ea07eb80-0a48-4488-af52-92b132ae72fd"
      },
      "outputs": [
        {
          "name": "stdout",
          "output_type": "stream",
          "text": [
            "✅ 影片已產出：/content/drive/MyDrive/shorts/movie01/text_0.mp4\n",
            "✅ 影片已產出：/content/drive/MyDrive/shorts/movie01/text_1.mp4\n",
            "✅ 影片已產出：/content/drive/MyDrive/shorts/movie01/text_2.mp4\n",
            "🎬 所有影片產出完成！\n"
          ]
        }
      ],
      "source": [
        "# ===== 主程式流程：對每張貼紙產出影片 =====\n",
        "text_files = [f for f in os.listdir(TEXT_STICKER_DIR) if f.endswith('.png')]  # 操作路徑或檔案系統\n",
        "if not text_files:  # if 判斷式\n",
        "    print(\"⚠️ 找不到任何貼紙，請確認 TEXT_STICKER_DIR 資料夾內是否有 PNG。\")\n",
        "\n",
        "for text_file in text_files:  # for 迴圈\n",
        "    # 讀入文字貼紙\n",
        "    text_path = os.path.join(TEXT_STICKER_DIR, text_file)  # 操作路徑或檔案系統\n",
        "\n",
        "    # 隨機抽背景\n",
        "    bg_list = [os.path.join(BACKGROUND_DIR, f) for f in os.listdir(BACKGROUND_DIR) if f.endswith(('.mp4', '.png'))]  # 操作路徑或檔案系統\n",
        "    if not bg_list:  # if 判斷式\n",
        "        print(\"❌ 沒有背景素材，請確認背景資料夾。\")\n",
        "        continue\n",
        "    bg_path = random.choice(bg_list)  # 隨機數/物件\n",
        "\n",
        "    # 隨機抽角色與特效\n",
        "    def rand_img(folder):  # 定義函數：rand_img\n",
        "        items = [os.path.join(folder, f) for f in os.listdir(folder) if f.endswith('.png')]  # 操作路徑或檔案系統\n",
        "        return random.choice(items) if items else None  # 回傳結果\n",
        "    layers = [text_path]  # 最底層為文字貼紙  # 變數指派\n",
        "    for folder in [CHARACTER_DIR, OVERLAY_DIR]:  # for 迴圈\n",
        "        picked = rand_img(folder)  # 變數指派\n",
        "        if picked:  # if 判斷式\n",
        "            layers.append(picked)\n",
        "\n",
        "    # 合成影片\n",
        "    output_path = os.path.join(OUTPUT_DIR, text_file.replace(\".png\", \".mp4\"))  # 操作路徑或檔案系統\n",
        "    if bg_path.endswith('.mp4'):  # if 判斷式\n",
        "        overlay_multiple_pngs_on_video_fast(bg_path, layers, output_path)\n",
        "    else:  # else 其他情況\n",
        "        # 處理靜態背景圖\n",
        "        bg_img = cv2.imread(bg_path)  # OpenCV 影像處理函式\n",
        "        bg_img = cv2.resize(bg_img, (1080, 1920))  # OpenCV 影像處理函式\n",
        "        overlay_imgs = [Image.open(p).resize((1080, 1920), Image.LANCZOS) for p in layers]  # PIL 影像處理\n",
        "        result = blend_with_alpha_fast(bg_img, overlay_imgs)  # 變數指派\n",
        "        out = cv2.VideoWriter(output_path, cv2.VideoWriter_fourcc(*'mp4v'), 15, (1080, 1920))  # OpenCV 影像處理函式\n",
        "        for _ in range(75): out.write(result)  # for 迴圈\n",
        "        out.release()\n",
        "        print(f\"✅ 靜態背景影片產出：{output_path}\")\n",
        "\n",
        "print(\"🎬 所有影片產出完成！\")"
      ]
    }
  ],
  "metadata": {
    "colab": {
      "provenance": [],
      "include_colab_link": true
    }
  },
  "nbformat": 4,
  "nbformat_minor": 5
}