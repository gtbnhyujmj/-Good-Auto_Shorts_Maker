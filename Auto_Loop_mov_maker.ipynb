{
  "nbformat": 4,
  "nbformat_minor": 0,
  "metadata": {
    "colab": {
      "provenance": [],
      "mount_file_id": "16RWqirguLKLx6INDu2awLBPhPhcoun9S",
      "authorship_tag": "ABX9TyPpOlYNxAaBCEuJaoH/kE3/",
      "include_colab_link": true
    },
    "kernelspec": {
      "name": "python3",
      "display_name": "Python 3"
    },
    "language_info": {
      "name": "python"
    }
  },
  "cells": [
    {
      "cell_type": "markdown",
      "metadata": {
        "id": "view-in-github",
        "colab_type": "text"
      },
      "source": [
        "<a href=\"https://colab.research.google.com/github/gtbnhyujmj/-Good-Auto_Shorts_Maker/blob/main/Auto_Loop_mov_maker.ipynb\" target=\"_parent\"><img src=\"https://colab.research.google.com/assets/colab-badge.svg\" alt=\"Open In Colab\"/></a>"
      ]
    },
    {
      "cell_type": "code",
      "execution_count": 1,
      "metadata": {
        "colab": {
          "base_uri": "https://localhost:8080/"
        },
        "collapsed": true,
        "id": "QZ8R6gqpNCd9",
        "outputId": "c8a4dbfe-97f9-416e-a1ee-3cad59689bda"
      },
      "outputs": [
        {
          "output_type": "stream",
          "name": "stdout",
          "text": [
            "Collecting ffmpeg-python\n",
            "  Downloading ffmpeg_python-0.2.0-py3-none-any.whl.metadata (1.7 kB)\n",
            "Requirement already satisfied: opencv-python in /usr/local/lib/python3.11/dist-packages (4.11.0.86)\n",
            "Requirement already satisfied: pillow in /usr/local/lib/python3.11/dist-packages (11.2.1)\n",
            "Requirement already satisfied: tqdm in /usr/local/lib/python3.11/dist-packages (4.67.1)\n",
            "Collecting pydub\n",
            "  Downloading pydub-0.25.1-py2.py3-none-any.whl.metadata (1.4 kB)\n",
            "Requirement already satisfied: future in /usr/local/lib/python3.11/dist-packages (from ffmpeg-python) (1.0.0)\n",
            "Requirement already satisfied: numpy>=1.21.2 in /usr/local/lib/python3.11/dist-packages (from opencv-python) (2.0.2)\n",
            "Downloading ffmpeg_python-0.2.0-py3-none-any.whl (25 kB)\n",
            "Downloading pydub-0.25.1-py2.py3-none-any.whl (32 kB)\n",
            "Installing collected packages: pydub, ffmpeg-python\n",
            "Successfully installed ffmpeg-python-0.2.0 pydub-0.25.1\n"
          ]
        }
      ],
      "source": [
        "!pip install ffmpeg-python opencv-python pillow tqdm pydub"
      ]
    },
    {
      "cell_type": "code",
      "source": [
        "import os\n",
        "import ffmpeg\n",
        "import shutil\n",
        "import numpy as np\n",
        "from PIL import Image\n",
        "from tqdm import tqdm\n",
        "from pydub import AudioSegment"
      ],
      "metadata": {
        "id": "ID12ljdYNNB2"
      },
      "execution_count": 2,
      "outputs": []
    },
    {
      "cell_type": "markdown",
      "source": [
        "# 定義區"
      ],
      "metadata": {
        "id": "vUY0-Nw8SsPA"
      }
    },
    {
      "cell_type": "code",
      "source": [
        "def extract_audio(input_mov, output_wav):\n",
        "    \"\"\"\n",
        "    從 MOV/MP4 提取音訊，儲存成 WAV\n",
        "    \"\"\"\n",
        "    (\n",
        "        ffmpeg\n",
        "        .input(output_mov)\n",
        "        .input(mix_audio_wav)\n",
        "        .output(output_mov_with_audio, vcodec='copy', acodec='aac', shortest=None)\n",
        "        .run(overwrite_output=True)\n",
        "    )\n",
        "\n",
        "    print(f\"✅ 分離音軌：{output_wav}\")"
      ],
      "metadata": {
        "id": "rg8xmI_ENPnG"
      },
      "execution_count": 3,
      "outputs": []
    },
    {
      "cell_type": "code",
      "source": [
        "def generate_silence_wav(duration_sec, output_wav):\n",
        "    \"\"\"\n",
        "    產生指定長度的靜音 WAV\n",
        "    \"\"\"\n",
        "    (\n",
        "        ffmpeg\n",
        "        .input('anullsrc=r=44100:cl=stereo', f='lavfi', t=duration_sec)\n",
        "        .output(output_wav, acodec='pcm_s16le', ac=2, ar='44100')\n",
        "        .run(overwrite_output=True)\n",
        "    )\n",
        "    print(f\"✅ 產生靜音：{output_wav}\")"
      ],
      "metadata": {
        "id": "sOTWfdzdNQ2u"
      },
      "execution_count": 4,
      "outputs": []
    },
    {
      "cell_type": "code",
      "source": [
        "def auto_clean_audio(input_wav, output_wav, silence_db_thresh=-45.0, min_chunk_ms=100):\n",
        "    \"\"\"\n",
        "    音訊降噪：低於 silence_db_thresh 的片段消成靜音\n",
        "    \"\"\"\n",
        "    audio = AudioSegment.from_wav(input_wav)\n",
        "    samples = np.array(audio.get_array_of_samples())\n",
        "    chunk_len = int(audio.frame_rate * min_chunk_ms / 1000)\n",
        "    cleaned = AudioSegment.silent(duration=0, frame_rate=audio.frame_rate)\n",
        "    total_len = len(audio)\n",
        "\n",
        "    for i in range(0, total_len, min_chunk_ms):\n",
        "        chunk = audio[i:i+min_chunk_ms]\n",
        "        if chunk.dBFS < silence_db_thresh:\n",
        "            cleaned += AudioSegment.silent(duration=min_chunk_ms, frame_rate=audio.frame_rate)\n",
        "        else:\n",
        "            cleaned += chunk\n",
        "\n",
        "    cleaned.export(output_wav, format=\"wav\")\n",
        "    print(f\"✅ 自動消噪完成：{output_wav}\")\n"
      ],
      "metadata": {
        "id": "H4pp8PNxNSsm"
      },
      "execution_count": 5,
      "outputs": []
    },
    {
      "cell_type": "code",
      "source": [
        "def align_and_mix_audio(audio_list, total_frames, fps, output_wav):\n",
        "    \"\"\"\n",
        "    audio_list: 多層音軌WAV路徑\n",
        "    total_frames: 對齊到這個幀數\n",
        "    fps: 幀率\n",
        "    output_wav: 最後混音輸出檔名\n",
        "    \"\"\"\n",
        "    total_length_ms = int(total_frames / fps * 1000)\n",
        "    result = AudioSegment.silent(duration=total_length_ms)\n",
        "\n",
        "    for audio_path in audio_list:\n",
        "        if audio_path is None or not os.path.exists(audio_path):\n",
        "            continue\n",
        "        audio = AudioSegment.from_file(audio_path)\n",
        "        # 讓音訊自動重複補到影片總長\n",
        "        repeats = int(np.ceil(total_length_ms / len(audio)))\n",
        "        audio_full = (audio * repeats)[:total_length_ms]\n",
        "        result = result.overlay(audio_full)\n",
        "\n",
        "    result.export(output_wav, format=\"wav\")\n",
        "    print(f\"✅ 多層音軌補齊並混音完成：{output_wav}\")"
      ],
      "metadata": {
        "id": "S_coTvLkNUfW"
      },
      "execution_count": 6,
      "outputs": []
    },
    {
      "cell_type": "code",
      "source": [
        "def extract_frames_with_alpha(input_path, output_folder, fps=None, ref_img=None, ref_frames=None):\n",
        "    \"\"\"\n",
        "    支援 mov/mp4、png資料夾、單張png、單獨mp3/wav音軌\n",
        "    mp3/wav 時會產生全透明 frame，用於補齊幀數，畫面疊合時沒畫面，混音時才有聲音\n",
        "    \"\"\"\n",
        "    os.makedirs(output_folder, exist_ok=True)\n",
        "\n",
        "    if input_path.lower().endswith(('.mov', '.mp4')):\n",
        "        options = {'pix_fmt': 'rgba'}\n",
        "        if fps:\n",
        "            options['vf'] = f'fps={fps}'\n",
        "        (\n",
        "            ffmpeg\n",
        "            .input(input_path)\n",
        "            .output(os.path.join(output_folder, 'frame_%05d.png'), **options)\n",
        "            .run(overwrite_output=True)\n",
        "        )\n",
        "    elif os.path.isdir(input_path):\n",
        "        png_files = [f for f in sorted(os.listdir(input_path)) if f.endswith('.png')]\n",
        "        if len(png_files) == 0:\n",
        "            raise ValueError(f\"資料夾 {input_path} 裡面沒有 PNG！\")\n",
        "        for i, fname in enumerate(png_files):\n",
        "            img = Image.open(os.path.join(input_path, fname)).convert(\"RGBA\")\n",
        "            img.save(os.path.join(output_folder, f\"frame_{i+1:05d}.png\"))\n",
        "    elif input_path.lower().endswith('.png'):\n",
        "        img = Image.open(input_path).convert(\"RGBA\")\n",
        "        img.save(os.path.join(output_folder, \"frame_00001.png\"))\n",
        "    elif input_path.lower().endswith(('.mp3', '.wav')):\n",
        "        # 產生全透明 frame，用於對齊疊圖\n",
        "        if ref_img is not None and ref_frames is not None:\n",
        "            size = ref_img.size\n",
        "            nframes = ref_frames\n",
        "        else:\n",
        "            # 沒有參考就用 1080x1920 1 幀\n",
        "            size = (1080, 1920)\n",
        "            nframes = 1\n",
        "        for i in range(nframes):\n",
        "            transparent = Image.new(\"RGBA\", size, (0,0,0,0))\n",
        "            transparent.save(os.path.join(output_folder, f\"frame_{i+1:05d}.png\"))\n",
        "    else:\n",
        "        raise ValueError(\"input_path 必須是 MOV、MP4、PNG 資料夾、單張 PNG 或 MP3/WAV\")\n",
        "\n",
        "    print(f\"✅ {input_path} 已轉換為 PNG 幀：{output_folder}\")"
      ],
      "metadata": {
        "id": "RdKLC0fHNWVN"
      },
      "execution_count": 7,
      "outputs": []
    },
    {
      "cell_type": "code",
      "source": [
        "def blend_frames_multi(bg_folder, fg_folder, output_folder):\n",
        "    \"\"\"\n",
        "    將兩個PNG資料夾疊圖，frame數自動補齊，用循環方式\n",
        "    \"\"\"\n",
        "    os.makedirs(output_folder, exist_ok=True)\n",
        "    bg_frames = sorted([f for f in os.listdir(bg_folder) if f.endswith('.png')])\n",
        "    fg_frames = sorted([f for f in os.listdir(fg_folder) if f.endswith('.png')])\n",
        "    n = max(len(bg_frames), len(fg_frames))\n",
        "    bg_len = len(bg_frames)\n",
        "    fg_len = len(fg_frames)\n",
        "\n",
        "    for i in tqdm(range(n), desc=\"疊加中\"):\n",
        "        bg_img = Image.open(os.path.join(bg_folder, bg_frames[i % bg_len])).convert(\"RGBA\")\n",
        "        fg_img = Image.open(os.path.join(fg_folder, fg_frames[i % fg_len])).convert(\"RGBA\")\n",
        "        out_img = Image.alpha_composite(bg_img, fg_img)\n",
        "        out_img.save(os.path.join(output_folder, f\"frame_{i+1:05d}.png\"))\n",
        "\n",
        "    print(f\"✅ 疊圖完成：{output_folder}\")"
      ],
      "metadata": {
        "id": "LSKEowckNX9m"
      },
      "execution_count": 8,
      "outputs": []
    },
    {
      "cell_type": "code",
      "source": [
        "def frames_to_mov_prores4444(frames_folder, output_path, fps=30):\n",
        "    (\n",
        "        ffmpeg\n",
        "        .input(os.path.join(frames_folder, 'frame_%05d.png'), framerate=fps)\n",
        "        .output(output_path, vcodec='prores_ks', profile=4, pix_fmt='yuva444p10le')\n",
        "        .run(overwrite_output=True)\n",
        "    )\n",
        "    print(f\"✅ MOV (ProRes 4444) 輸出完成（透明+壓縮）：{output_path}\")"
      ],
      "metadata": {
        "id": "jNU7TK_HNZTV"
      },
      "execution_count": 9,
      "outputs": []
    },
    {
      "cell_type": "code",
      "source": [
        "def super_layered_composite(input_list, fps=30, silence_db_thresh=-45.0):\n",
        "    prev_frames_dir = None\n",
        "    audio_tracks = []\n",
        "    max_frames = 0\n",
        "    ref_img = None\n",
        "    ref_frames = None\n",
        "\n",
        "    # 拆解每層，並抽音軌\n",
        "    for idx, inp in enumerate(input_list):\n",
        "        frames_dir = f\"/content/layer_{idx+1}_frames\"\n",
        "\n",
        "        # 第一次遇到「真實畫面」（影片、圖片、資料夾），存下尺寸和張數\n",
        "        if ref_img is None and not inp.lower().endswith(('.mp3', '.wav')):\n",
        "            # 先轉成frame\n",
        "            extract_frames_with_alpha(inp, frames_dir, fps=fps)\n",
        "            sample_file = os.path.join(frames_dir, sorted(os.listdir(frames_dir))[0])\n",
        "            ref_img = Image.open(sample_file)\n",
        "            ref_frames = len([f for f in os.listdir(frames_dir) if f.endswith('.png')])\n",
        "        else:\n",
        "            # MP3/WAV\n",
        "            extract_frames_with_alpha(inp, frames_dir, fps=fps, ref_img=ref_img, ref_frames=ref_frames)\n",
        "\n",
        "        n_frames = len([f for f in os.listdir(frames_dir) if f.endswith('.png')])\n",
        "        max_frames = max(max_frames, n_frames)\n",
        "        # 音軌處理\n",
        "        if inp.lower().endswith(('.mov', '.mp4', '.mp3', '.wav')):\n",
        "            audio_wav = f\"/content/layer_{idx+1}_audio.wav\"\n",
        "            if inp.lower().endswith(('.mov', '.mp4')):\n",
        "                extract_audio(inp, audio_wav)\n",
        "                auto_clean_audio(audio_wav, audio_wav, silence_db_thresh)\n",
        "            elif inp.lower().endswith('.mp3'):\n",
        "                # 轉成wav\n",
        "                AudioSegment.from_mp3(inp).export(audio_wav, format=\"wav\")\n",
        "                auto_clean_audio(audio_wav, audio_wav, silence_db_thresh)\n",
        "            elif inp.lower().endswith('.wav'):\n",
        "                auto_clean_audio(inp, audio_wav, silence_db_thresh)\n",
        "            audio_tracks.append(audio_wav)\n",
        "        else:\n",
        "            audio_tracks.append(None)\n",
        "\n",
        "        # 疊圖\n",
        "        if prev_frames_dir is None:\n",
        "            prev_frames_dir = frames_dir\n",
        "        else:\n",
        "            out_dir = f\"/content/merge_{idx}_frames\"\n",
        "            blend_frames_multi(prev_frames_dir, frames_dir, out_dir)\n",
        "            shutil.rmtree(prev_frames_dir)\n",
        "            shutil.rmtree(frames_dir)\n",
        "            prev_frames_dir = out_dir\n",
        "\n",
        "    # 合成影片\n",
        "    output_mov = '/content/final_output.mov'\n",
        "    frames_to_mov_prores4444(prev_frames_dir, output_mov, fps=fps)\n",
        "\n",
        "    # 合成音軌\n",
        "    mix_audio_wav = \"/content/final_output_audio.wav\"\n",
        "    align_and_mix_audio([a for a in audio_tracks if a], max_frames, fps, mix_audio_wav)\n",
        "\n",
        "    # 最後音軌mux\n",
        "    output_mov_with_audio = '/content/final_output_with_audio.mov'\n",
        "    output_mov_with_audio = '/content/final_output_with_audio.mov'\n",
        "    video_stream = ffmpeg.input(output_mov)\n",
        "    audio_stream = ffmpeg.input(mix_audio_wav)\n",
        "    (\n",
        "        ffmpeg\n",
        "        .output(video_stream, audio_stream, output_mov_with_audio, vcodec='copy', acodec='aac', shortest=None)\n",
        "        .run(overwrite_output=True)\n",
        "    )\n",
        "\n",
        "    print(f\"🎉 最終影片（含聲音）輸出：{output_mov_with_audio}\")\n",
        "\n",
        "    return output_mov_with_audio"
      ],
      "metadata": {
        "id": "92rHAVFjNcmV"
      },
      "execution_count": 14,
      "outputs": []
    },
    {
      "cell_type": "code",
      "source": [
        "# 請依自己的情況把 input_list 改成你自己的檔案、資料夾路徑\n",
        "input_list = [\n",
        "    '/content/drive/MyDrive/shorts/OK_Stamps/OK_001.png',  # 第一層影片/圖片\n",
        "    '/content/drive/MyDrive/shorts/BGM_MP3/vine_boom.mp3',     # 第二層\n",
        "    # '/content/貼紙夾',        # 第三層可用資料夾\n",
        "    # ... 無限層\n",
        "]\n",
        "\n",
        "final_mov = super_layered_composite(input_list, fps=30)"
      ],
      "metadata": {
        "colab": {
          "base_uri": "https://localhost:8080/"
        },
        "id": "n0wsf9MDNfM2",
        "outputId": "b23e7e5e-9bfc-4960-e099-da2c749877fa"
      },
      "execution_count": 15,
      "outputs": [
        {
          "output_type": "stream",
          "name": "stdout",
          "text": [
            "✅ /content/drive/MyDrive/shorts/OK_Stamps/OK_001.png 已轉換為 PNG 幀：/content/layer_1_frames\n",
            "✅ /content/drive/MyDrive/shorts/BGM_MP3/vine_boom.mp3 已轉換為 PNG 幀：/content/layer_2_frames\n",
            "✅ 自動消噪完成：/content/layer_2_audio.wav\n"
          ]
        },
        {
          "output_type": "stream",
          "name": "stderr",
          "text": [
            "疊加中: 100%|██████████| 1/1 [00:00<00:00,  1.68it/s]\n"
          ]
        },
        {
          "output_type": "stream",
          "name": "stdout",
          "text": [
            "✅ 疊圖完成：/content/merge_1_frames\n",
            "✅ MOV (ProRes 4444) 輸出完成（透明+壓縮）：/content/final_output.mov\n",
            "✅ 多層音軌補齊並混音完成：/content/final_output_audio.wav\n",
            "🎉 最終影片（含聲音）輸出：/content/final_output_with_audio.mov\n"
          ]
        }
      ]
    },
    {
      "cell_type": "markdown",
      "source": [
        "# 測試"
      ],
      "metadata": {
        "id": "1YW0kI9xSMTx"
      }
    },
    {
      "cell_type": "code",
      "source": [
        "from pydub import AudioSegment\n",
        "import ffmpeg\n",
        "\n",
        "# 你想要的秒數\n",
        "DURATION = 5  # 秒\n",
        "\n",
        "# 圖片、音訊、影片路徑\n",
        "IMAGE = '/content/drive/MyDrive/shorts/OK_Stamps/OK_001.png'\n",
        "AUDIO = '/content/drive/MyDrive/shorts/BGM_MP3/vine_boom.mp3'\n",
        "OUTPUT = '/content/final_output_with_audio.mov'\n",
        "\n",
        "# 先產生5秒動畫（透明）\n",
        "(\n",
        "    ffmpeg\n",
        "    .input(IMAGE, loop=1, t=DURATION, framerate=30)\n",
        "    .output('/content/looped.mov', vcodec='prores_ks', profile=4, pix_fmt='yuva444p10le', framerate=30)\n",
        "    .run(overwrite_output=True)\n",
        ")\n",
        "\n",
        "# 然後再合成音軌（截到5秒剛好）\n",
        "video_stream = ffmpeg.input('/content/looped.mov')\n",
        "audio_stream = ffmpeg.input(AUDIO)\n",
        "(\n",
        "    ffmpeg\n",
        "    .output(video_stream, audio_stream, OUTPUT, vcodec='copy', acodec='aac', shortest=None)\n",
        "    .run(overwrite_output=True)\n",
        ")\n",
        "\n",
        "print(f\"✅ 成功產生5秒有聲音的影片：{OUTPUT}\")"
      ],
      "metadata": {
        "colab": {
          "base_uri": "https://localhost:8080/"
        },
        "id": "jqQ_h59cSPDY",
        "outputId": "22af562c-e627-415d-b4c6-f082b25ba9ad"
      },
      "execution_count": 16,
      "outputs": [
        {
          "output_type": "stream",
          "name": "stdout",
          "text": [
            "✅ 成功產生5秒有聲音的影片：/content/final_output_with_audio.mov\n"
          ]
        }
      ]
    }
  ]
}