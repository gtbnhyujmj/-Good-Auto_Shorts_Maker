{
  "cells": [
    {
      "cell_type": "markdown",
      "metadata": {
        "id": "view-in-github",
        "colab_type": "text"
      },
      "source": [
        "<a href=\"https://colab.research.google.com/github/gtbnhyujmj/-Good-Auto_Shorts_Maker/blob/main/%5BV1%5D_Stickered_Movie.ipynb\" target=\"_parent\"><img src=\"https://colab.research.google.com/assets/colab-badge.svg\" alt=\"Open In Colab\"/></a>"
      ]
    },
    {
      "cell_type": "markdown",
      "metadata": {
        "id": "QGetiWNC-m-p"
      },
      "source": [
        "# Step 1：引入套件 + 初始化設定"
      ]
    },
    {
      "cell_type": "code",
      "source": [
        "from google.colab import drive\n",
        "drive.mount('/content/drive')"
      ],
      "metadata": {
        "colab": {
          "base_uri": "https://localhost:8080/"
        },
        "id": "GJqobjHxI3ou",
        "outputId": "6c0be887-77d7-4285-bacb-0ec59b0d3a6d"
      },
      "execution_count": 2,
      "outputs": [
        {
          "output_type": "stream",
          "name": "stdout",
          "text": [
            "Drive already mounted at /content/drive; to attempt to forcibly remount, call drive.mount(\"/content/drive\", force_remount=True).\n"
          ]
        }
      ]
    },
    {
      "cell_type": "code",
      "execution_count": 3,
      "metadata": {
        "id": "CcDXIq5x9iuj"
      },
      "outputs": [],
      "source": [
        "import os\n",
        "import random\n",
        "import cv2\n",
        "from PIL import Image, ImageDraw, ImageFont\n",
        "import numpy as np\n",
        "import matplotlib.font_manager as fm"
      ]
    },
    {
      "cell_type": "code",
      "execution_count": 4,
      "metadata": {
        "id": "F18FdCWE-kKx"
      },
      "outputs": [],
      "source": [
        "# 設定輸出影片大小\n",
        "IMG_SIZE = (1080, 1920)\n",
        "FONT_SIZE = 100\n",
        "\n",
        "TOP_OFFSET = 150\n",
        "RIGHT_MARGIN = 60\n",
        "\n",
        "FPS = 30\n",
        "DURATION = 3  # 秒數"
      ]
    },
    {
      "cell_type": "markdown",
      "metadata": {
        "id": "4D0I-bpy-pK5"
      },
      "source": [
        "# Step 2：隨機抽 PNG 圖片的工具"
      ]
    },
    {
      "cell_type": "code",
      "execution_count": 5,
      "metadata": {
        "id": "24e39fdf"
      },
      "outputs": [],
      "source": [
        "import os\n",
        "import random\n",
        "from PIL import Image\n",
        "import cv2\n",
        "\n",
        "def extract_middle_frame_as_pil(mp4_path):\n",
        "    cap = cv2.VideoCapture(mp4_path)\n",
        "    if not cap.isOpened():\n",
        "        raise IOError(f\"Cannot open video: {mp4_path}\")\n",
        "\n",
        "    frame_count = int(cap.get(cv2.CAP_PROP_FRAME_COUNT))\n",
        "    mid_frame_idx = frame_count // 2\n",
        "    cap.set(cv2.CAP_PROP_POS_FRAMES, mid_frame_idx)\n",
        "\n",
        "    ret, frame = cap.read()\n",
        "    cap.release()\n",
        "\n",
        "    if not ret:\n",
        "        raise ValueError(f\"Cannot read frame from video: {mp4_path}\")\n",
        "\n",
        "    frame_rgb = cv2.cvtColor(frame, cv2.COLOR_BGR2RGB)\n",
        "    return Image.fromarray(frame_rgb)\n",
        "\n",
        "def get_random_images_from_folders(folder_paths, count=1):\n",
        "    selected_images = []\n",
        "    for folder in folder_paths:\n",
        "        if not os.path.isdir(folder):\n",
        "            print(f\"Warning: {folder} is not a valid directory.\")\n",
        "            continue\n",
        "\n",
        "        candidates = [f for f in os.listdir(folder) if f.lower().endswith(('.png', '.mp4'))]\n",
        "        if not candidates:\n",
        "            print(f\"No valid .png or .mp4 files found in {folder}\")\n",
        "            continue\n",
        "\n",
        "        sampled_files = random.sample(candidates, min(count, len(candidates)))\n",
        "        for filename in sampled_files:\n",
        "            file_path = os.path.join(folder, filename)\n",
        "            if filename.lower().endswith('.png'):\n",
        "                image = Image.open(file_path).convert(\"RGBA\")\n",
        "            elif filename.lower().endswith('.mp4'):\n",
        "                image = extract_middle_frame_as_pil(file_path).convert(\"RGBA\")\n",
        "            else:\n",
        "                continue\n",
        "            selected_images.append(image)\n",
        "\n",
        "    return selected_images"
      ]
    },
    {
      "cell_type": "markdown",
      "metadata": {
        "id": "yIcYdhHi-tBA"
      },
      "source": [
        "# Step 3：自動尋找中文字體（跨平台）"
      ]
    },
    {
      "cell_type": "code",
      "execution_count": 6,
      "metadata": {
        "id": "AeC0pfLF-t34"
      },
      "outputs": [],
      "source": [
        "def find_chinese_font():\n",
        "    font_candidates = fm.findSystemFonts(fontpaths=[\"/usr/share/fonts\", \"/System/Library/Fonts\", \"/content/drive/MyDrive/shorts/font\"])\n",
        "    for font_path in font_candidates:\n",
        "        if \"NotoSansCJK\" in font_path or \"Taipei\" in font_path or \"DFKai\" in font_path:\n",
        "            return font_path\n",
        "    return None"
      ]
    },
    {
      "cell_type": "markdown",
      "metadata": {
        "id": "vVzbaWvD-zeY"
      },
      "source": [
        "# Step 4：產生文字貼紙圖（文字 → PNG）"
      ]
    },
    {
      "cell_type": "code",
      "execution_count": 7,
      "metadata": {
        "id": "g7_J8Fxo-1fQ"
      },
      "outputs": [],
      "source": [
        "def create_text_image(text, font_path, size=IMG_SIZE):\n",
        "    img = Image.new(\"RGBA\", size, (0, 0, 0, 0))\n",
        "    draw = ImageDraw.Draw(img)\n",
        "    font = ImageFont.truetype(font_path, FONT_SIZE)\n",
        "\n",
        "    text_size = draw.textsize(text, font=font)\n",
        "    position = (size[0] - text_size[0] - RIGHT_MARGIN, TOP_OFFSET)\n",
        "    draw.text(position, text, fill=(0, 255, 255, 255), font=font)\n",
        "    return img"
      ]
    },
    {
      "cell_type": "markdown",
      "metadata": {
        "id": "yWj-JzRs-3bI"
      },
      "source": [
        "# Step 5：圖片疊圖處理（透明度合成）"
      ]
    },
    {
      "cell_type": "code",
      "execution_count": 8,
      "metadata": {
        "id": "pZqx9uzq-35h"
      },
      "outputs": [],
      "source": [
        "def blend_with_alpha(base_img, overlays):\n",
        "    base_rgba = cv2.cvtColor(base_img, cv2.COLOR_BGR2RGBA)\n",
        "    for overlay in overlays:\n",
        "        overlay_rgba = np.array(overlay.resize((base_img.shape[1], base_img.shape[0]))).astype(np.float32)\n",
        "        alpha_overlay = overlay_rgba[..., 3:] / 255.0\n",
        "        alpha_base = base_rgba[..., 3:] / 255.0\n",
        "        out_alpha = alpha_overlay + alpha_base * (1 - alpha_overlay)\n",
        "        base_rgba[..., :3] = (overlay_rgba[..., :3] * alpha_overlay + base_rgba[..., :3] * alpha_base * (1 - alpha_overlay)) / (out_alpha + 1e-6)\n",
        "        base_rgba[..., 3:] = out_alpha * 255\n",
        "    return cv2.cvtColor(base_rgba.astype(np.uint8), cv2.COLOR_RGBA2BGR)"
      ]
    },
    {
      "cell_type": "markdown",
      "metadata": {
        "id": "tPCanRD4_Abo"
      },
      "source": [
        "# Step 6：製作影片（依照每個文字產生 1 支影片）"
      ]
    },
    {
      "cell_type": "code",
      "execution_count": 9,
      "metadata": {
        "id": "plKgLYr4-9uo"
      },
      "outputs": [],
      "source": [
        "def create_short_video(text_img, overlay_imgs, output_path):\n",
        "    width, height = IMG_SIZE\n",
        "    total_frames = FPS * DURATION\n",
        "    fourcc = cv2.VideoWriter_fourcc(*'mp4v')\n",
        "    out = cv2.VideoWriter(output_path, fourcc, FPS, (width, height))\n",
        "\n",
        "    for _ in range(total_frames):\n",
        "        blank = np.zeros((height, width, 3), dtype=np.uint8)\n",
        "        frame = blend_with_alpha(blank, overlay_imgs + [text_img])\n",
        "        out.write(frame)\n",
        "\n",
        "    out.release()\n",
        "    print(f\"已輸出：{output_path}\")"
      ]
    },
    {
      "cell_type": "markdown",
      "metadata": {
        "id": "NEyu4Fih_BiY"
      },
      "source": [
        "# Step 7：主控流程（串起所有步驟）"
      ]
    },
    {
      "cell_type": "code",
      "execution_count": 10,
      "metadata": {
        "colab": {
          "base_uri": "https://localhost:8080/"
        },
        "id": "r9nPDX9C_Duo",
        "outputId": "e1e9475d-43c9-45f3-f6bf-f433dff1cdd1"
      },
      "outputs": [
        {
          "output_type": "stream",
          "name": "stdout",
          "text": [
            "已輸出：/content/drive/MyDrive/shorts/movie01/text_1.mp4\n",
            "已輸出：/content/drive/MyDrive/shorts/movie01/text_2.mp4\n",
            "已輸出：/content/drive/MyDrive/shorts/movie01/text_0.mp4\n"
          ]
        }
      ],
      "source": [
        "# 路徑設定\n",
        "BACKGROUND_DIRS = [\"/content/drive/MyDrive/shorts/backgrounds_MP4\", \"/content/drive/MyDrive/shorts/characters\", \"/content/drive/MyDrive/shorts/PNG_Overlayers\"]\n",
        "TEXT_STICKER_DIR = \"/content/drive/MyDrive/shorts/Text_Overlayers\"\n",
        "OUTPUT_DIR = \"/content/drive/MyDrive/shorts/movie01\"\n",
        "os.makedirs(OUTPUT_DIR, exist_ok=True)\n",
        "\n",
        "font_path = find_chinese_font()\n",
        "text_files = [f for f in os.listdir(TEXT_STICKER_DIR) if f.endswith('.png')]\n",
        "\n",
        "for text_file in text_files:\n",
        "    text_path = os.path.join(TEXT_STICKER_DIR, text_file)\n",
        "    text_overlay = Image.open(text_path).convert(\"RGBA\")\n",
        "\n",
        "    random_layers = get_random_images_from_folders(BACKGROUND_DIRS)\n",
        "    output_path = os.path.join(OUTPUT_DIR, f\"{text_file.replace('.png', '')}.mp4\")\n",
        "    create_short_video(text_overlay, random_layers, output_path)"
      ]
    }
  ],
  "metadata": {
    "colab": {
      "provenance": [],
      "include_colab_link": true
    },
    "kernelspec": {
      "display_name": "Python 3",
      "name": "python3"
    },
    "language_info": {
      "name": "python"
    }
  },
  "nbformat": 4,
  "nbformat_minor": 0
}