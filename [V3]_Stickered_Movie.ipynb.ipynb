{
  "cells": [
    {
      "cell_type": "markdown",
      "metadata": {
        "id": "view-in-github",
        "colab_type": "text"
      },
      "source": [
        "<a href=\"https://colab.research.google.com/github/gtbnhyujmj/-Good-Auto_Shorts_Maker/blob/main/%5BV3%5D_Stickered_Movie.ipynb.ipynb\" target=\"_parent\"><img src=\"https://colab.research.google.com/assets/colab-badge.svg\" alt=\"Open In Colab\"/></a>"
      ]
    },
    {
      "cell_type": "code",
      "execution_count": 5,
      "metadata": {
        "colab": {
          "base_uri": "https://localhost:8080/"
        },
        "collapsed": true,
        "id": "SRKopglGW-FD",
        "outputId": "d9a39aa7-080a-44ce-c92b-d75089ebe1cd"
      },
      "outputs": [
        {
          "output_type": "stream",
          "name": "stdout",
          "text": [
            "Requirement already satisfied: ffmpeg-python in /usr/local/lib/python3.11/dist-packages (0.2.0)\n",
            "Requirement already satisfied: opencv-python in /usr/local/lib/python3.11/dist-packages (4.11.0.86)\n",
            "Requirement already satisfied: pillow in /usr/local/lib/python3.11/dist-packages (11.2.1)\n",
            "Requirement already satisfied: tqdm in /usr/local/lib/python3.11/dist-packages (4.67.1)\n",
            "Requirement already satisfied: pydub in /usr/local/lib/python3.11/dist-packages (0.25.1)\n",
            "Requirement already satisfied: future in /usr/local/lib/python3.11/dist-packages (from ffmpeg-python) (1.0.0)\n",
            "Requirement already satisfied: numpy>=1.21.2 in /usr/local/lib/python3.11/dist-packages (from opencv-python) (2.0.2)\n"
          ]
        }
      ],
      "source": [
        "# === 1. 安裝套件 ===\n",
        "!pip install ffmpeg-python opencv-python pillow tqdm pydub"
      ]
    },
    {
      "cell_type": "code",
      "source": [
        "from google.colab import drive\n",
        "drive.mount('/content/drive')"
      ],
      "metadata": {
        "id": "lGXn1YNSuQuI",
        "colab": {
          "base_uri": "https://localhost:8080/"
        },
        "outputId": "1cfd55f7-32be-44d1-ed7d-711f8178cd17"
      },
      "execution_count": 6,
      "outputs": [
        {
          "output_type": "stream",
          "name": "stdout",
          "text": [
            "Drive already mounted at /content/drive; to attempt to forcibly remount, call drive.mount(\"/content/drive\", force_remount=True).\n"
          ]
        }
      ]
    },
    {
      "cell_type": "code",
      "execution_count": 7,
      "metadata": {
        "id": "RzzoC7GVW_3-"
      },
      "outputs": [],
      "source": [
        "# === 2. 載入模組 ===\n",
        "import os, shutil\n",
        "import ffmpeg\n",
        "import numpy as np\n",
        "from PIL import Image\n",
        "from tqdm import tqdm\n",
        "from pydub import AudioSegment"
      ]
    },
    {
      "cell_type": "markdown",
      "metadata": {
        "id": "SEbhgbPnXCUG"
      },
      "source": [
        "# === 3. 工具 ==="
      ]
    },
    {
      "cell_type": "code",
      "execution_count": 8,
      "metadata": {
        "id": "jjvjIAbaXDAN"
      },
      "outputs": [],
      "source": [
        "def extract_audio(input_mov, output_wav):\n",
        "    (\n",
        "        ffmpeg\n",
        "        .input(input_mov)\n",
        "        .output(output_wav, acodec='pcm_s16le', ac=2, ar='44100')\n",
        "        .run(overwrite_output=True)\n",
        "    )\n",
        "    print(f\"✅ 分離音軌：{output_wav}\")"
      ]
    },
    {
      "cell_type": "code",
      "execution_count": 9,
      "metadata": {
        "id": "_ueaODz4bc7U"
      },
      "outputs": [],
      "source": [
        "def has_audio_track(video_path):\n",
        "    \"\"\"判斷影片檔是否有音軌\"\"\"\n",
        "    import ffmpeg\n",
        "    probe = ffmpeg.probe(video_path)\n",
        "    return any(s for s in probe['streams'] if s['codec_type'] == 'audio')"
      ]
    },
    {
      "cell_type": "code",
      "execution_count": 10,
      "metadata": {
        "id": "b_lVXo1DXFfe"
      },
      "outputs": [],
      "source": [
        "def auto_clean_audio(input_wav, output_wav, silence_db_thresh=-45.0, min_chunk_ms=100):\n",
        "    audio = AudioSegment.from_wav(input_wav)\n",
        "    cleaned = AudioSegment.silent(duration=0, frame_rate=audio.frame_rate)\n",
        "    total_len = len(audio)\n",
        "    for i in range(0, total_len, min_chunk_ms):\n",
        "        chunk = audio[i:i+min_chunk_ms]\n",
        "        if chunk.dBFS < silence_db_thresh:\n",
        "            cleaned += AudioSegment.silent(duration=min_chunk_ms, frame_rate=audio.frame_rate)\n",
        "        else:\n",
        "            cleaned += chunk\n",
        "    cleaned.export(output_wav, format=\"wav\")\n",
        "    print(f\"✅ 自動消噪完成：{output_wav}\")"
      ]
    },
    {
      "cell_type": "code",
      "execution_count": 11,
      "metadata": {
        "id": "RyiKT1HwXG2t"
      },
      "outputs": [],
      "source": [
        "def align_and_mix_audio(audio_list, total_frames, fps, output_wav):\n",
        "    total_length_ms = int(total_frames / fps * 1000)\n",
        "    result = AudioSegment.silent(duration=total_length_ms)\n",
        "    for audio_path in audio_list:\n",
        "        if audio_path is None or not os.path.exists(audio_path):\n",
        "            continue\n",
        "        audio = AudioSegment.from_file(audio_path)\n",
        "        repeats = int(np.ceil(total_length_ms / len(audio)))\n",
        "        audio_full = (audio * repeats)[:total_length_ms]\n",
        "        result = result.overlay(audio_full)\n",
        "    result.export(output_wav, format=\"wav\")\n",
        "    print(f\"✅ 多層音軌補齊並混音完成：{output_wav}\")"
      ]
    },
    {
      "cell_type": "code",
      "execution_count": 12,
      "metadata": {
        "id": "Xg-u1YDlXJIF"
      },
      "outputs": [],
      "source": [
        "def extract_frames_with_alpha(input_path, output_folder, fps=None, ref_img=None, ref_frames=None):\n",
        "    os.makedirs(output_folder, exist_ok=True)\n",
        "    if input_path.lower().endswith(('.mov', '.mp4')):\n",
        "        options = {'pix_fmt': 'rgba'}\n",
        "        if fps:\n",
        "            options['vf'] = f'fps={fps}'\n",
        "        (\n",
        "            ffmpeg\n",
        "            .input(input_path)\n",
        "            .output(os.path.join(output_folder, 'frame_%05d.png'), **options)\n",
        "            .run(overwrite_output=True)\n",
        "        )\n",
        "    elif os.path.isdir(input_path):\n",
        "        png_files = [f for f in sorted(os.listdir(input_path)) if f.endswith('.png')]\n",
        "        if len(png_files) == 0:\n",
        "            raise ValueError(f\"資料夾 {input_path} 裡面沒有 PNG！\")\n",
        "        for i, fname in enumerate(png_files):\n",
        "            img = Image.open(os.path.join(input_path, fname)).convert(\"RGBA\")\n",
        "            img.save(os.path.join(output_folder, f\"frame_{i+1:05d}.png\"))\n",
        "    elif input_path.lower().endswith('.png'):\n",
        "        img = Image.open(input_path).convert(\"RGBA\")\n",
        "        img.save(os.path.join(output_folder, \"frame_00001.png\"))\n",
        "    elif input_path.lower().endswith(('.mp3', '.wav')):\n",
        "        # 若沒參考圖，預設1080x1920\n",
        "        if ref_img is not None and ref_frames is not None:\n",
        "            size = ref_img.size\n",
        "            nframes = ref_frames\n",
        "        else:\n",
        "            size = (1080, 1920)\n",
        "            nframes = 1\n",
        "        for i in range(nframes):\n",
        "            transparent = Image.new(\"RGBA\", size, (0,0,0,0))\n",
        "            transparent.save(os.path.join(output_folder, f\"frame_{i+1:05d}.png\"))\n",
        "    else:\n",
        "        raise ValueError(\"input_path 必須是 MOV、MP4、PNG 資料夾、單張 PNG 或 MP3/WAV\")\n",
        "    print(f\"✅ {input_path} 已轉換為 PNG 幀：{output_folder}\")"
      ]
    },
    {
      "cell_type": "code",
      "execution_count": 13,
      "metadata": {
        "id": "Os4-sn7vbmsE"
      },
      "outputs": [],
      "source": [
        "from PIL import Image\n",
        "import os\n",
        "\n",
        "def blend_frames_multi(bg_folder, fg_folder, output_folder):\n",
        "    os.makedirs(output_folder, exist_ok=True)\n",
        "    bg_frames = sorted(os.listdir(bg_folder))\n",
        "    fg_frames = sorted(os.listdir(fg_folder))\n",
        "    bg_len = len(bg_frames)\n",
        "    fg_len = len(fg_frames)\n",
        "    total = max(bg_len, fg_len)\n",
        "\n",
        "    for i in range(total):\n",
        "        bg_img = Image.open(os.path.join(bg_folder, bg_frames[i % bg_len])).convert(\"RGBA\")\n",
        "        fg_img = Image.open(os.path.join(fg_folder, fg_frames[i % fg_len])).convert(\"RGBA\")\n",
        "\n",
        "        # 新增：把 fg resize 成跟 bg 一樣大\n",
        "        if fg_img.size != bg_img.size:\n",
        "            fg_img = fg_img.resize(bg_img.size, Image.LANCZOS)\n",
        "\n",
        "        out_img = Image.alpha_composite(bg_img, fg_img)\n",
        "        out_img.save(os.path.join(output_folder, f\"frame_{i+1:05d}.png\"))\n",
        "    print(f\"✅ 疊圖完成：{output_folder}\")"
      ]
    },
    {
      "cell_type": "code",
      "execution_count": 14,
      "metadata": {
        "id": "4-z1D0neXKtO"
      },
      "outputs": [],
      "source": [
        "def frames_to_mov_prores4444(frames_folder, output_path, fps=30):\n",
        "    (\n",
        "        ffmpeg\n",
        "        .input(os.path.join(frames_folder, 'frame_%05d.png'), framerate=fps)\n",
        "        .output(output_path, vcodec='prores_ks', profile=4, pix_fmt='yuva444p10le')\n",
        "        .run(overwrite_output=True)\n",
        "    )\n",
        "    print(f\"✅ MOV (ProRes 4444) 輸出完成（透明+壓縮）：{output_path}\")"
      ]
    },
    {
      "cell_type": "markdown",
      "metadata": {
        "id": "Fbf_8xENXNcf"
      },
      "source": [
        "# === 4. 主流程 ==="
      ]
    },
    {
      "cell_type": "code",
      "execution_count": 15,
      "metadata": {
        "id": "HrMs159qXQaN"
      },
      "outputs": [],
      "source": [
        "def super_layered_composite(input_list, fps=30, silence_db_thresh=-45.0):\n",
        "    import os, shutil\n",
        "    from PIL import Image\n",
        "    from tqdm import tqdm\n",
        "    from pydub import AudioSegment\n",
        "    import numpy as np\n",
        "\n",
        "    prev_frames_dir = None\n",
        "    audio_tracks = []\n",
        "    max_frames = 0\n",
        "    ref_img = None\n",
        "    ref_frames = None\n",
        "\n",
        "    # Step 1: 拆解所有層\n",
        "    for idx, inp in enumerate(input_list):\n",
        "        frames_dir = f\"/content/layer_{idx+1}_frames\"\n",
        "\n",
        "        # 決定參考圖層（用第一個圖片/影片作基準）\n",
        "        if ref_img is None and not inp.lower().endswith(('.mp3', '.wav')):\n",
        "            extract_frames_with_alpha(inp, frames_dir, fps=fps)\n",
        "            sample_file = os.path.join(frames_dir, sorted(os.listdir(frames_dir))[0])\n",
        "            ref_img = Image.open(sample_file)\n",
        "            ref_frames = len([f for f in os.listdir(frames_dir) if f.endswith('.png')])\n",
        "        else:\n",
        "            extract_frames_with_alpha(inp, frames_dir, fps=fps, ref_img=ref_img, ref_frames=ref_frames)\n",
        "\n",
        "        n_frames = len([f for f in os.listdir(frames_dir) if f.endswith('.png')])\n",
        "        max_frames = max(max_frames, n_frames)\n",
        "\n",
        "        # Step 2: 音訊層處理\n",
        "        is_video = inp.lower().endswith(('.mov', '.mp4'))\n",
        "        is_mp3 = inp.lower().endswith('.mp3')\n",
        "        is_wav = inp.lower().endswith('.wav')\n",
        "        audio_wav = f\"/content/layer_{idx+1}_audio.wav\"\n",
        "\n",
        "        if is_video and has_audio_track(inp):\n",
        "            extract_audio(inp, audio_wav)\n",
        "            auto_clean_audio(audio_wav, audio_wav, silence_db_thresh)\n",
        "            audio_tracks.append(audio_wav)\n",
        "        elif is_mp3:\n",
        "            AudioSegment.from_mp3(inp).export(audio_wav, format=\"wav\")\n",
        "            auto_clean_audio(audio_wav, audio_wav, silence_db_thresh)\n",
        "            audio_tracks.append(audio_wav)\n",
        "        elif is_wav:\n",
        "            auto_clean_audio(inp, audio_wav, silence_db_thresh)\n",
        "            audio_tracks.append(audio_wav)\n",
        "        else:\n",
        "            audio_tracks.append(None)\n",
        "\n",
        "        # Step 3: 疊圖\n",
        "        if prev_frames_dir is None:\n",
        "            prev_frames_dir = frames_dir\n",
        "        else:\n",
        "            out_dir = f\"/content/merge_{idx}_frames\"\n",
        "            blend_frames_multi(prev_frames_dir, frames_dir, out_dir)\n",
        "            shutil.rmtree(prev_frames_dir)\n",
        "            shutil.rmtree(frames_dir)\n",
        "            prev_frames_dir = out_dir\n",
        "\n",
        "    # Step 4: 合成影片\n",
        "    output_mov = '/content/final_output.mov'\n",
        "    frames_to_mov_prores4444(prev_frames_dir, output_mov, fps=fps)\n",
        "\n",
        "    # Step 5: 音訊補齊混音\n",
        "    mix_audio_wav = \"/content/final_output_audio.wav\"\n",
        "    align_and_mix_audio([a for a in audio_tracks if a], max_frames, fps, mix_audio_wav)\n",
        "\n",
        "    # Step 6: mux\n",
        "    output_mov_with_audio = '/content/final_output_with_audio.mov'\n",
        "    import ffmpeg\n",
        "    video_stream = ffmpeg.input(output_mov)\n",
        "    audio_stream = ffmpeg.input(mix_audio_wav)\n",
        "    (\n",
        "        ffmpeg\n",
        "        .output(video_stream, audio_stream, output_mov_with_audio, vcodec='copy', acodec='aac', shortest=None)\n",
        "        .run(overwrite_output=True)\n",
        "    )\n",
        "    print(f\"🎉 最終影片（含聲音）輸出：{output_mov_with_audio}\")\n",
        "    return output_mov_with_audio"
      ]
    },
    {
      "cell_type": "markdown",
      "metadata": {
        "id": "0OMWjp4uXR1d"
      },
      "source": [
        "# === 5. 用法 ==="
      ]
    },
    {
      "cell_type": "code",
      "execution_count": 16,
      "metadata": {
        "id": "KVfy-XqlXVom"
      },
      "outputs": [],
      "source": [
        "input_list = [\n",
        "    '/content/drive/MyDrive/shorts/backgrounds_MP4/bg2.mp4',  # 第一層影片/圖片\n",
        "    '/content/drive/MyDrive/shorts/characters/char3.png',\n",
        "    \"/content/drive/MyDrive/shorts/PNG_Overlayers/OverLayers1.png\",\n",
        "    \"/content/drive/MyDrive/shorts/Text_Overlayers/text_0.png\",\n",
        "    \"/content/drive/MyDrive/shorts/BGM_MOV/final_output_with_audio.mov\",\n",
        "    # \"\",\n",
        "    # 第二層\n",
        "    # '/content/貼紙夾',        # 第三層可用資料夾\n",
        "    # ... 無限層\n",
        "]"
      ]
    },
    {
      "cell_type": "code",
      "execution_count": 17,
      "metadata": {
        "colab": {
          "base_uri": "https://localhost:8080/"
        },
        "id": "CBuLh0r1XW2P",
        "outputId": "8433a05e-1b41-437f-e3c1-7b8151398fb6"
      },
      "outputs": [
        {
          "output_type": "stream",
          "name": "stdout",
          "text": [
            "✅ /content/drive/MyDrive/shorts/backgrounds_MP4/bg2.mp4 已轉換為 PNG 幀：/content/layer_1_frames\n",
            "✅ /content/drive/MyDrive/shorts/characters/char3.png 已轉換為 PNG 幀：/content/layer_2_frames\n",
            "✅ 疊圖完成：/content/merge_1_frames\n",
            "✅ /content/drive/MyDrive/shorts/PNG_Overlayers/OverLayers1.png 已轉換為 PNG 幀：/content/layer_3_frames\n",
            "✅ 疊圖完成：/content/merge_2_frames\n",
            "✅ /content/drive/MyDrive/shorts/Text_Overlayers/text_0.png 已轉換為 PNG 幀：/content/layer_4_frames\n",
            "✅ 疊圖完成：/content/merge_3_frames\n",
            "✅ /content/drive/MyDrive/shorts/BGM_MOV/final_output_with_audio.mov 已轉換為 PNG 幀：/content/layer_5_frames\n",
            "✅ 分離音軌：/content/layer_5_audio.wav\n",
            "✅ 自動消噪完成：/content/layer_5_audio.wav\n",
            "✅ 疊圖完成：/content/merge_4_frames\n",
            "✅ MOV (ProRes 4444) 輸出完成（透明+壓縮）：/content/final_output.mov\n",
            "✅ 多層音軌補齊並混音完成：/content/final_output_audio.wav\n",
            "🎉 最終影片（含聲音）輸出：/content/final_output_with_audio.mov\n"
          ]
        }
      ],
      "source": [
        "final_mov = super_layered_composite(input_list, fps=30)"
      ]
    },
    {
      "cell_type": "markdown",
      "metadata": {
        "id": "HbTEbGYcb3F7"
      },
      "source": [
        "# MP3 >>> MOV"
      ]
    },
    {
      "cell_type": "code",
      "execution_count": 18,
      "metadata": {
        "colab": {
          "base_uri": "https://localhost:8080/"
        },
        "id": "74FjGbG3YR7d",
        "outputId": "7e779d76-08f3-444e-f3d2-a9aafd34cae6"
      },
      "outputs": [
        {
          "output_type": "stream",
          "name": "stdout",
          "text": [
            "✅ 成功產生5秒有聲音的影片：/content/drive/MyDrive/shorts/BGM_MOV/final_output_with_audio.mov\n"
          ]
        }
      ],
      "source": [
        "from pydub import AudioSegment\n",
        "import ffmpeg\n",
        "\n",
        "# 你想要的秒數\n",
        "DURATION = 5  # 秒\n",
        "\n",
        "# 圖片、音訊、影片路徑\n",
        "IMAGE = '/content/drive/MyDrive/shorts/OK_Stamps/OK_1080_001.png'\n",
        "AUDIO = '/content/drive/MyDrive/shorts/BGM_MP3/vine_boom.mp3'\n",
        "OUTPUT = '/content/drive/MyDrive/shorts/BGM_MOV/final_output_with_audio.mov'\n",
        "\n",
        "# 先產生5秒動畫（透明）\n",
        "(\n",
        "    ffmpeg\n",
        "    .input(IMAGE, loop=1, t=DURATION, framerate=30)\n",
        "    .output('/content/looped.mov', vcodec='prores_ks', profile=4, pix_fmt='yuva444p10le', framerate=30)\n",
        "    .run(overwrite_output=True)\n",
        ")\n",
        "\n",
        "# 然後再合成音軌（截到5秒剛好）\n",
        "video_stream = ffmpeg.input('/content/looped.mov')\n",
        "audio_stream = ffmpeg.input(AUDIO)\n",
        "(\n",
        "    ffmpeg\n",
        "    .output(video_stream, audio_stream, OUTPUT, vcodec='copy', acodec='aac', shortest=None)\n",
        "    .run(overwrite_output=True)\n",
        ")\n",
        "\n",
        "print(f\"✅ 成功產生5秒有聲音的影片：{OUTPUT}\")"
      ]
    }
  ],
  "metadata": {
    "colab": {
      "provenance": [],
      "mount_file_id": "1HrPbEi3LRCCV9X3dCsDRE2xyKZwEcKQO",
      "authorship_tag": "ABX9TyPPuS3FQI0WycHF5qcgjTp/",
      "include_colab_link": true
    },
    "kernelspec": {
      "display_name": "Python 3",
      "name": "python3"
    },
    "language_info": {
      "name": "python"
    }
  },
  "nbformat": 4,
  "nbformat_minor": 0
}